{
 "cells": [
  {
   "cell_type": "code",
   "execution_count": 1,
   "id": "ce0b6744",
   "metadata": {},
   "outputs": [],
   "source": [
    "import recomandation"
   ]
  },
  {
   "cell_type": "code",
   "execution_count": 2,
   "id": "c92346ba",
   "metadata": {},
   "outputs": [],
   "source": [
    "df = recomandation.reco(15)"
   ]
  },
  {
   "cell_type": "code",
   "execution_count": 3,
   "id": "a1dcc45c",
   "metadata": {
    "scrolled": false
   },
   "outputs": [
    {
     "data": {
      "text/html": [
       "<div>\n",
       "<style scoped>\n",
       "    .dataframe tbody tr th:only-of-type {\n",
       "        vertical-align: middle;\n",
       "    }\n",
       "\n",
       "    .dataframe tbody tr th {\n",
       "        vertical-align: top;\n",
       "    }\n",
       "\n",
       "    .dataframe thead th {\n",
       "        text-align: right;\n",
       "    }\n",
       "</style>\n",
       "<table border=\"1\" class=\"dataframe\">\n",
       "  <thead>\n",
       "    <tr style=\"text-align: right;\">\n",
       "      <th></th>\n",
       "      <th>movieId</th>\n",
       "      <th>title</th>\n",
       "      <th>genres</th>\n",
       "      <th>Predictions</th>\n",
       "    </tr>\n",
       "  </thead>\n",
       "  <tbody>\n",
       "    <tr>\n",
       "      <th>662</th>\n",
       "      <td>1080</td>\n",
       "      <td>Monty Python's Life of Brian (1979)</td>\n",
       "      <td>Comedy</td>\n",
       "      <td>3.231573</td>\n",
       "    </tr>\n",
       "    <tr>\n",
       "      <th>669</th>\n",
       "      <td>1090</td>\n",
       "      <td>Platoon (1986)</td>\n",
       "      <td>Drama|War</td>\n",
       "      <td>3.031839</td>\n",
       "    </tr>\n",
       "    <tr>\n",
       "      <th>224</th>\n",
       "      <td>348</td>\n",
       "      <td>Bullets Over Broadway (1994)</td>\n",
       "      <td>Comedy</td>\n",
       "      <td>2.967341</td>\n",
       "    </tr>\n",
       "    <tr>\n",
       "      <th>515</th>\n",
       "      <td>852</td>\n",
       "      <td>Tin Cup (1996)</td>\n",
       "      <td>Comedy|Drama|Romance</td>\n",
       "      <td>2.918055</td>\n",
       "    </tr>\n",
       "    <tr>\n",
       "      <th>486</th>\n",
       "      <td>805</td>\n",
       "      <td>Time to Kill, A (1996)</td>\n",
       "      <td>Drama|Thriller</td>\n",
       "      <td>2.851778</td>\n",
       "    </tr>\n",
       "    <tr>\n",
       "      <th>413</th>\n",
       "      <td>653</td>\n",
       "      <td>Dragonheart (1996)</td>\n",
       "      <td>Action|Adventure|Fantasy</td>\n",
       "      <td>2.783178</td>\n",
       "    </tr>\n",
       "    <tr>\n",
       "      <th>216</th>\n",
       "      <td>337</td>\n",
       "      <td>What's Eating Gilbert Grape (1993)</td>\n",
       "      <td>Drama</td>\n",
       "      <td>2.730816</td>\n",
       "    </tr>\n",
       "    <tr>\n",
       "      <th>422</th>\n",
       "      <td>671</td>\n",
       "      <td>Mystery Science Theater 3000: The Movie (1996)</td>\n",
       "      <td>Comedy|Sci-Fi</td>\n",
       "      <td>2.721821</td>\n",
       "    </tr>\n",
       "    <tr>\n",
       "      <th>240</th>\n",
       "      <td>376</td>\n",
       "      <td>River Wild, The (1994)</td>\n",
       "      <td>Action|Thriller</td>\n",
       "      <td>2.673036</td>\n",
       "    </tr>\n",
       "    <tr>\n",
       "      <th>33</th>\n",
       "      <td>58</td>\n",
       "      <td>Postman, The (Postino, Il) (1994)</td>\n",
       "      <td>Comedy|Drama|Romance</td>\n",
       "      <td>2.637897</td>\n",
       "    </tr>\n",
       "    <tr>\n",
       "      <th>1969</th>\n",
       "      <td>3263</td>\n",
       "      <td>White Men Can't Jump (1992)</td>\n",
       "      <td>Comedy|Drama</td>\n",
       "      <td>2.634506</td>\n",
       "    </tr>\n",
       "    <tr>\n",
       "      <th>778</th>\n",
       "      <td>1343</td>\n",
       "      <td>Cape Fear (1991)</td>\n",
       "      <td>Thriller</td>\n",
       "      <td>2.630318</td>\n",
       "    </tr>\n",
       "    <tr>\n",
       "      <th>6258</th>\n",
       "      <td>82459</td>\n",
       "      <td>True Grit (2010)</td>\n",
       "      <td>Western</td>\n",
       "      <td>2.590161</td>\n",
       "    </tr>\n",
       "    <tr>\n",
       "      <th>660</th>\n",
       "      <td>1077</td>\n",
       "      <td>Sleeper (1973)</td>\n",
       "      <td>Comedy|Sci-Fi</td>\n",
       "      <td>2.543622</td>\n",
       "    </tr>\n",
       "    <tr>\n",
       "      <th>172</th>\n",
       "      <td>272</td>\n",
       "      <td>Madness of King George, The (1994)</td>\n",
       "      <td>Comedy|Drama</td>\n",
       "      <td>2.529833</td>\n",
       "    </tr>\n",
       "  </tbody>\n",
       "</table>\n",
       "</div>"
      ],
      "text/plain": [
       "      movieId                                           title  \\\n",
       "662      1080             Monty Python's Life of Brian (1979)   \n",
       "669      1090                                  Platoon (1986)   \n",
       "224       348                    Bullets Over Broadway (1994)   \n",
       "515       852                                  Tin Cup (1996)   \n",
       "486       805                          Time to Kill, A (1996)   \n",
       "413       653                              Dragonheart (1996)   \n",
       "216       337              What's Eating Gilbert Grape (1993)   \n",
       "422       671  Mystery Science Theater 3000: The Movie (1996)   \n",
       "240       376                          River Wild, The (1994)   \n",
       "33         58               Postman, The (Postino, Il) (1994)   \n",
       "1969     3263                     White Men Can't Jump (1992)   \n",
       "778      1343                                Cape Fear (1991)   \n",
       "6258    82459                                True Grit (2010)   \n",
       "660      1077                                  Sleeper (1973)   \n",
       "172       272              Madness of King George, The (1994)   \n",
       "\n",
       "                        genres  Predictions  \n",
       "662                     Comedy     3.231573  \n",
       "669                  Drama|War     3.031839  \n",
       "224                     Comedy     2.967341  \n",
       "515       Comedy|Drama|Romance     2.918055  \n",
       "486             Drama|Thriller     2.851778  \n",
       "413   Action|Adventure|Fantasy     2.783178  \n",
       "216                      Drama     2.730816  \n",
       "422              Comedy|Sci-Fi     2.721821  \n",
       "240            Action|Thriller     2.673036  \n",
       "33        Comedy|Drama|Romance     2.637897  \n",
       "1969              Comedy|Drama     2.634506  \n",
       "778                   Thriller     2.630318  \n",
       "6258                   Western     2.590161  \n",
       "660              Comedy|Sci-Fi     2.543622  \n",
       "172               Comedy|Drama     2.529833  "
      ]
     },
     "execution_count": 3,
     "metadata": {},
     "output_type": "execute_result"
    }
   ],
   "source": [
    "df"
   ]
  },
  {
   "cell_type": "code",
   "execution_count": 8,
   "id": "018cb8b0",
   "metadata": {},
   "outputs": [],
   "source": [
    "df2 = df.iloc[:,:2]"
   ]
  },
  {
   "cell_type": "code",
   "execution_count": 9,
   "id": "5ba5ecb9",
   "metadata": {},
   "outputs": [
    {
     "data": {
      "text/html": [
       "<div>\n",
       "<style scoped>\n",
       "    .dataframe tbody tr th:only-of-type {\n",
       "        vertical-align: middle;\n",
       "    }\n",
       "\n",
       "    .dataframe tbody tr th {\n",
       "        vertical-align: top;\n",
       "    }\n",
       "\n",
       "    .dataframe thead th {\n",
       "        text-align: right;\n",
       "    }\n",
       "</style>\n",
       "<table border=\"1\" class=\"dataframe\">\n",
       "  <thead>\n",
       "    <tr style=\"text-align: right;\">\n",
       "      <th></th>\n",
       "      <th>movieId</th>\n",
       "      <th>title</th>\n",
       "    </tr>\n",
       "  </thead>\n",
       "  <tbody>\n",
       "    <tr>\n",
       "      <th>662</th>\n",
       "      <td>1080</td>\n",
       "      <td>Monty Python's Life of Brian (1979)</td>\n",
       "    </tr>\n",
       "    <tr>\n",
       "      <th>669</th>\n",
       "      <td>1090</td>\n",
       "      <td>Platoon (1986)</td>\n",
       "    </tr>\n",
       "    <tr>\n",
       "      <th>224</th>\n",
       "      <td>348</td>\n",
       "      <td>Bullets Over Broadway (1994)</td>\n",
       "    </tr>\n",
       "    <tr>\n",
       "      <th>515</th>\n",
       "      <td>852</td>\n",
       "      <td>Tin Cup (1996)</td>\n",
       "    </tr>\n",
       "    <tr>\n",
       "      <th>486</th>\n",
       "      <td>805</td>\n",
       "      <td>Time to Kill, A (1996)</td>\n",
       "    </tr>\n",
       "    <tr>\n",
       "      <th>413</th>\n",
       "      <td>653</td>\n",
       "      <td>Dragonheart (1996)</td>\n",
       "    </tr>\n",
       "    <tr>\n",
       "      <th>216</th>\n",
       "      <td>337</td>\n",
       "      <td>What's Eating Gilbert Grape (1993)</td>\n",
       "    </tr>\n",
       "    <tr>\n",
       "      <th>422</th>\n",
       "      <td>671</td>\n",
       "      <td>Mystery Science Theater 3000: The Movie (1996)</td>\n",
       "    </tr>\n",
       "    <tr>\n",
       "      <th>240</th>\n",
       "      <td>376</td>\n",
       "      <td>River Wild, The (1994)</td>\n",
       "    </tr>\n",
       "    <tr>\n",
       "      <th>33</th>\n",
       "      <td>58</td>\n",
       "      <td>Postman, The (Postino, Il) (1994)</td>\n",
       "    </tr>\n",
       "    <tr>\n",
       "      <th>1969</th>\n",
       "      <td>3263</td>\n",
       "      <td>White Men Can't Jump (1992)</td>\n",
       "    </tr>\n",
       "    <tr>\n",
       "      <th>778</th>\n",
       "      <td>1343</td>\n",
       "      <td>Cape Fear (1991)</td>\n",
       "    </tr>\n",
       "    <tr>\n",
       "      <th>6258</th>\n",
       "      <td>82459</td>\n",
       "      <td>True Grit (2010)</td>\n",
       "    </tr>\n",
       "    <tr>\n",
       "      <th>660</th>\n",
       "      <td>1077</td>\n",
       "      <td>Sleeper (1973)</td>\n",
       "    </tr>\n",
       "    <tr>\n",
       "      <th>172</th>\n",
       "      <td>272</td>\n",
       "      <td>Madness of King George, The (1994)</td>\n",
       "    </tr>\n",
       "  </tbody>\n",
       "</table>\n",
       "</div>"
      ],
      "text/plain": [
       "      movieId                                           title\n",
       "662      1080             Monty Python's Life of Brian (1979)\n",
       "669      1090                                  Platoon (1986)\n",
       "224       348                    Bullets Over Broadway (1994)\n",
       "515       852                                  Tin Cup (1996)\n",
       "486       805                          Time to Kill, A (1996)\n",
       "413       653                              Dragonheart (1996)\n",
       "216       337              What's Eating Gilbert Grape (1993)\n",
       "422       671  Mystery Science Theater 3000: The Movie (1996)\n",
       "240       376                          River Wild, The (1994)\n",
       "33         58               Postman, The (Postino, Il) (1994)\n",
       "1969     3263                     White Men Can't Jump (1992)\n",
       "778      1343                                Cape Fear (1991)\n",
       "6258    82459                                True Grit (2010)\n",
       "660      1077                                  Sleeper (1973)\n",
       "172       272              Madness of King George, The (1994)"
      ]
     },
     "execution_count": 9,
     "metadata": {},
     "output_type": "execute_result"
    }
   ],
   "source": [
    "df2"
   ]
  },
  {
   "cell_type": "code",
   "execution_count": 17,
   "id": "b185036b",
   "metadata": {},
   "outputs": [],
   "source": [
    "df3 = df.iloc[:,:1]"
   ]
  },
  {
   "cell_type": "code",
   "execution_count": 18,
   "id": "5515bf11",
   "metadata": {},
   "outputs": [
    {
     "data": {
      "text/html": [
       "<div>\n",
       "<style scoped>\n",
       "    .dataframe tbody tr th:only-of-type {\n",
       "        vertical-align: middle;\n",
       "    }\n",
       "\n",
       "    .dataframe tbody tr th {\n",
       "        vertical-align: top;\n",
       "    }\n",
       "\n",
       "    .dataframe thead th {\n",
       "        text-align: right;\n",
       "    }\n",
       "</style>\n",
       "<table border=\"1\" class=\"dataframe\">\n",
       "  <thead>\n",
       "    <tr style=\"text-align: right;\">\n",
       "      <th></th>\n",
       "      <th>movieId</th>\n",
       "    </tr>\n",
       "  </thead>\n",
       "  <tbody>\n",
       "    <tr>\n",
       "      <th>662</th>\n",
       "      <td>1080</td>\n",
       "    </tr>\n",
       "    <tr>\n",
       "      <th>669</th>\n",
       "      <td>1090</td>\n",
       "    </tr>\n",
       "    <tr>\n",
       "      <th>224</th>\n",
       "      <td>348</td>\n",
       "    </tr>\n",
       "    <tr>\n",
       "      <th>515</th>\n",
       "      <td>852</td>\n",
       "    </tr>\n",
       "    <tr>\n",
       "      <th>486</th>\n",
       "      <td>805</td>\n",
       "    </tr>\n",
       "    <tr>\n",
       "      <th>413</th>\n",
       "      <td>653</td>\n",
       "    </tr>\n",
       "    <tr>\n",
       "      <th>216</th>\n",
       "      <td>337</td>\n",
       "    </tr>\n",
       "    <tr>\n",
       "      <th>422</th>\n",
       "      <td>671</td>\n",
       "    </tr>\n",
       "    <tr>\n",
       "      <th>240</th>\n",
       "      <td>376</td>\n",
       "    </tr>\n",
       "    <tr>\n",
       "      <th>33</th>\n",
       "      <td>58</td>\n",
       "    </tr>\n",
       "    <tr>\n",
       "      <th>1969</th>\n",
       "      <td>3263</td>\n",
       "    </tr>\n",
       "    <tr>\n",
       "      <th>778</th>\n",
       "      <td>1343</td>\n",
       "    </tr>\n",
       "    <tr>\n",
       "      <th>6258</th>\n",
       "      <td>82459</td>\n",
       "    </tr>\n",
       "    <tr>\n",
       "      <th>660</th>\n",
       "      <td>1077</td>\n",
       "    </tr>\n",
       "    <tr>\n",
       "      <th>172</th>\n",
       "      <td>272</td>\n",
       "    </tr>\n",
       "  </tbody>\n",
       "</table>\n",
       "</div>"
      ],
      "text/plain": [
       "      movieId\n",
       "662      1080\n",
       "669      1090\n",
       "224       348\n",
       "515       852\n",
       "486       805\n",
       "413       653\n",
       "216       337\n",
       "422       671\n",
       "240       376\n",
       "33         58\n",
       "1969     3263\n",
       "778      1343\n",
       "6258    82459\n",
       "660      1077\n",
       "172       272"
      ]
     },
     "execution_count": 18,
     "metadata": {},
     "output_type": "execute_result"
    }
   ],
   "source": [
    "df3"
   ]
  },
  {
   "cell_type": "code",
   "execution_count": 10,
   "id": "b7f1cfc7",
   "metadata": {
    "scrolled": true
   },
   "outputs": [],
   "source": [
    "abc = df2.to_dict('records')"
   ]
  },
  {
   "cell_type": "code",
   "execution_count": null,
   "id": "c07bd7c2",
   "metadata": {},
   "outputs": [],
   "source": []
  },
  {
   "cell_type": "code",
   "execution_count": 19,
   "id": "c4305aaf",
   "metadata": {},
   "outputs": [],
   "source": [
    "defg = df3.to_dict()"
   ]
  },
  {
   "cell_type": "code",
   "execution_count": 22,
   "id": "bb69e070",
   "metadata": {
    "scrolled": true
   },
   "outputs": [
    {
     "data": {
      "text/plain": [
       "dict"
      ]
     },
     "execution_count": 22,
     "metadata": {},
     "output_type": "execute_result"
    }
   ],
   "source": [
    "type(defg)"
   ]
  },
  {
   "cell_type": "code",
   "execution_count": 13,
   "id": "7c0daf72",
   "metadata": {},
   "outputs": [
    {
     "data": {
      "text/plain": [
       "{'movieId': 1080, 'title': \"Monty Python's Life of Brian (1979)\"}"
      ]
     },
     "execution_count": 13,
     "metadata": {},
     "output_type": "execute_result"
    }
   ],
   "source": []
  },
  {
   "cell_type": "code",
   "execution_count": null,
   "id": "56e53c81",
   "metadata": {},
   "outputs": [],
   "source": [
    "t = df['movieId']"
   ]
  },
  {
   "cell_type": "code",
   "execution_count": null,
   "id": "bf43bafc",
   "metadata": {},
   "outputs": [],
   "source": [
    "t = list(t)"
   ]
  },
  {
   "cell_type": "code",
   "execution_count": null,
   "id": "4d31b5ce",
   "metadata": {},
   "outputs": [],
   "source": [
    "t"
   ]
  },
  {
   "cell_type": "code",
   "execution_count": null,
   "id": "3490654f",
   "metadata": {},
   "outputs": [],
   "source": []
  },
  {
   "cell_type": "code",
   "execution_count": null,
   "id": "cb42a83c",
   "metadata": {},
   "outputs": [],
   "source": [
    "type(baz)"
   ]
  },
  {
   "cell_type": "code",
   "execution_count": null,
   "id": "3a16dfe7",
   "metadata": {},
   "outputs": [],
   "source": [
    "baz"
   ]
  },
  {
   "cell_type": "code",
   "execution_count": null,
   "id": "1d6a4a32",
   "metadata": {},
   "outputs": [],
   "source": []
  }
 ],
 "metadata": {
  "kernelspec": {
   "display_name": "Python 3",
   "language": "python",
   "name": "python3"
  },
  "language_info": {
   "codemirror_mode": {
    "name": "ipython",
    "version": 3
   },
   "file_extension": ".py",
   "mimetype": "text/x-python",
   "name": "python",
   "nbconvert_exporter": "python",
   "pygments_lexer": "ipython3",
   "version": "3.8.5"
  }
 },
 "nbformat": 4,
 "nbformat_minor": 5
}
