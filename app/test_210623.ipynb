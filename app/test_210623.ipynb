{
 "cells": [
  {
   "cell_type": "code",
   "execution_count": 3,
   "id": "ce0b6744",
   "metadata": {},
   "outputs": [],
   "source": [
    "import recommendation as rd"
   ]
  },
  {
   "cell_type": "code",
   "execution_count": 4,
   "id": "c92346ba",
   "metadata": {},
   "outputs": [],
   "source": [
    "df = rd.reco(15)"
   ]
  },
  {
   "cell_type": "code",
   "execution_count": 5,
   "id": "a1dcc45c",
   "metadata": {
    "scrolled": false
   },
   "outputs": [
    {
     "data": {
      "text/plain": [
       "{'movieId': {662: 1080,\n",
       "  669: 1090,\n",
       "  224: 348,\n",
       "  515: 852,\n",
       "  486: 805,\n",
       "  413: 653,\n",
       "  216: 337,\n",
       "  422: 671,\n",
       "  240: 376,\n",
       "  33: 58,\n",
       "  1969: 3263,\n",
       "  778: 1343,\n",
       "  6258: 82459,\n",
       "  660: 1077,\n",
       "  172: 272}}"
      ]
     },
     "execution_count": 5,
     "metadata": {},
     "output_type": "execute_result"
    }
   ],
   "source": [
    "df"
   ]
  },
  {
   "cell_type": "code",
   "execution_count": 9,
   "id": "b7f1cfc7",
   "metadata": {
    "scrolled": true
   },
   "outputs": [
    {
     "data": {
      "text/plain": [
       "{'movieId': {662: 1080,\n",
       "  669: 1090,\n",
       "  224: 348,\n",
       "  515: 852,\n",
       "  486: 805,\n",
       "  413: 653,\n",
       "  216: 337,\n",
       "  422: 671,\n",
       "  240: 376,\n",
       "  33: 58,\n",
       "  1969: 3263,\n",
       "  778: 1343,\n",
       "  6258: 82459,\n",
       "  660: 1077,\n",
       "  172: 272}}"
      ]
     },
     "execution_count": 9,
     "metadata": {},
     "output_type": "execute_result"
    }
   ],
   "source": [
    "rd.reco(15)"
   ]
  }
 ],
 "metadata": {
  "kernelspec": {
   "display_name": "Python 3",
   "language": "python",
   "name": "python3"
  },
  "language_info": {
   "codemirror_mode": {
    "name": "ipython",
    "version": 3
   },
   "file_extension": ".py",
   "mimetype": "text/x-python",
   "name": "python",
   "nbconvert_exporter": "python",
   "pygments_lexer": "ipython3",
   "version": "3.8.5"
  }
 },
 "nbformat": 4,
 "nbformat_minor": 5
}
